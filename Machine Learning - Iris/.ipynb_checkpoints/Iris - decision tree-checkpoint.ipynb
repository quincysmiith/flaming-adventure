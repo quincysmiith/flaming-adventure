{
 "metadata": {
  "name": "",
  "signature": "sha256:af54bcf071f0f707cab26bd92c30a70e0268d56fd808db2b39fc7e8df8432923"
 },
 "nbformat": 3,
 "nbformat_minor": 0,
 "worksheets": [
  {
   "cells": [
    {
     "cell_type": "heading",
     "level": 1,
     "metadata": {},
     "source": [
      "Decision trees on the iris data set with sklearn"
     ]
    },
    {
     "cell_type": "markdown",
     "metadata": {},
     "source": [
      "The inspiration for this workbook can be found [here](http://scikit-learn.org/stable/modules/tree.html#classification) on the sklearn website"
     ]
    },
    {
     "cell_type": "markdown",
     "metadata": {},
     "source": [
      "Load the packages we need"
     ]
    },
    {
     "cell_type": "code",
     "collapsed": false,
     "input": [
      "import pandas as pd\n",
      "import numpy as np\n",
      "from sklearn import tree\n",
      "import pydot\n",
      "from sklearn.externals.six import StringIO"
     ],
     "language": "python",
     "metadata": {},
     "outputs": [],
     "prompt_number": 6
    },
    {
     "cell_type": "markdown",
     "metadata": {},
     "source": [
      "Load the previously saved iris csv file using pandas"
     ]
    },
    {
     "cell_type": "code",
     "collapsed": false,
     "input": [
      "iris_file = '/home/analytics/Documents/Machine Learning - Iris/iris.csv'\n",
      "data = pd.read_csv(iris_file)"
     ],
     "language": "python",
     "metadata": {},
     "outputs": [],
     "prompt_number": 2
    },
    {
     "cell_type": "code",
     "collapsed": false,
     "input": [
      "print \"The data contains the following columns:\"\n",
      "for i in data.columns:\n",
      "    print i\n",
      "    \n",
      "print \"\""
     ],
     "language": "python",
     "metadata": {},
     "outputs": [
      {
       "output_type": "stream",
       "stream": "stdout",
       "text": [
        "The data contains the following columns:\n",
        "Sepal_length\n",
        "Sepal_width\n",
        "Petal_width\n",
        "Petal_length\n",
        "Species\n",
        "\n"
       ]
      }
     ],
     "prompt_number": 3
    },
    {
     "cell_type": "code",
     "collapsed": false,
     "input": [
      "Train the model using a decision tree"
     ],
     "language": "python",
     "metadata": {},
     "outputs": []
    },
    {
     "cell_type": "code",
     "collapsed": false,
     "input": [
      "clf = tree.DecisionTreeClassifier()\n",
      "clf = clf.fit(data[[0,1,2,3]], data[\"Species\"])"
     ],
     "language": "python",
     "metadata": {},
     "outputs": [],
     "prompt_number": 4
    },
    {
     "cell_type": "code",
     "collapsed": false,
     "input": [
      "with open(\"/home/analytics/Documents/Machine Learning - Iris/iris.dot\", 'w') as f:\n",
      "    f = tree.export_graphviz(clf, out_file=f)"
     ],
     "language": "python",
     "metadata": {},
     "outputs": [],
     "prompt_number": 9
    },
    {
     "cell_type": "code",
     "collapsed": false,
     "input": [],
     "language": "python",
     "metadata": {},
     "outputs": []
    }
   ],
   "metadata": {}
  }
 ]
}